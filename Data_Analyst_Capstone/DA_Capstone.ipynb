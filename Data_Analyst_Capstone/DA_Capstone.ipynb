{
 "cells": [
  {
   "cell_type": "markdown",
   "metadata": {},
   "source": [
    "# **Identifying and Recommending Best Restaurants**"
   ]
  },
  {
   "cell_type": "markdown",
   "metadata": {},
   "source": [
    "### Load Library and Data"
   ]
  },
  {
   "cell_type": "code",
   "execution_count": 2,
   "metadata": {},
   "outputs": [],
   "source": [
    "# import library\n",
    "import pandas as pd\n",
    "import numpy as np\n",
    "import seaborn as sns\n",
    "import matplotlib.pyplot as plt"
   ]
  },
  {
   "cell_type": "code",
   "execution_count": 1,
   "metadata": {},
   "outputs": [],
   "source": [
    "def import_dataset(file_path):\n",
    "    \"\"\"Import dataset from the given file path.\"\"\"\n",
    "    df = pd.read_excel(file_path)\n",
    "    return df"
   ]
  },
  {
   "cell_type": "code",
   "execution_count": 3,
   "metadata": {},
   "outputs": [
    {
     "data": {
      "text/html": [
       "<div>\n",
       "<style scoped>\n",
       "    .dataframe tbody tr th:only-of-type {\n",
       "        vertical-align: middle;\n",
       "    }\n",
       "\n",
       "    .dataframe tbody tr th {\n",
       "        vertical-align: top;\n",
       "    }\n",
       "\n",
       "    .dataframe thead th {\n",
       "        text-align: right;\n",
       "    }\n",
       "</style>\n",
       "<table border=\"1\" class=\"dataframe\">\n",
       "  <thead>\n",
       "    <tr style=\"text-align: right;\">\n",
       "      <th></th>\n",
       "      <th>Restaurant ID</th>\n",
       "      <th>Restaurant Name</th>\n",
       "      <th>Country Code</th>\n",
       "      <th>City</th>\n",
       "      <th>Address</th>\n",
       "      <th>Locality</th>\n",
       "      <th>Locality Verbose</th>\n",
       "      <th>Longitude</th>\n",
       "      <th>Latitude</th>\n",
       "      <th>Cuisines</th>\n",
       "      <th>Average Cost for two</th>\n",
       "      <th>Currency</th>\n",
       "      <th>Has Table booking</th>\n",
       "      <th>Has Online delivery</th>\n",
       "      <th>Price range</th>\n",
       "      <th>Aggregate rating</th>\n",
       "      <th>Rating color</th>\n",
       "      <th>Rating text</th>\n",
       "      <th>Votes</th>\n",
       "    </tr>\n",
       "  </thead>\n",
       "  <tbody>\n",
       "    <tr>\n",
       "      <th>0</th>\n",
       "      <td>7402935</td>\n",
       "      <td>Skye</td>\n",
       "      <td>94</td>\n",
       "      <td>Jakarta</td>\n",
       "      <td>Menara BCA, Lantai 56, Jl. MH. Thamrin, Thamri...</td>\n",
       "      <td>Grand Indonesia Mall, Thamrin</td>\n",
       "      <td>Grand Indonesia Mall, Thamrin, Jakarta</td>\n",
       "      <td>106.821999</td>\n",
       "      <td>-6.196778</td>\n",
       "      <td>Italian, Continental</td>\n",
       "      <td>800000</td>\n",
       "      <td>Indonesian Rupiah(IDR)</td>\n",
       "      <td>No</td>\n",
       "      <td>No</td>\n",
       "      <td>3</td>\n",
       "      <td>4.1</td>\n",
       "      <td>Green</td>\n",
       "      <td>Very Good</td>\n",
       "      <td>1498</td>\n",
       "    </tr>\n",
       "    <tr>\n",
       "      <th>1</th>\n",
       "      <td>7410290</td>\n",
       "      <td>Satoo - Hotel Shangri-La</td>\n",
       "      <td>94</td>\n",
       "      <td>Jakarta</td>\n",
       "      <td>Hotel Shangri-La, Jl. Jend. Sudirman</td>\n",
       "      <td>Hotel Shangri-La, Sudirman</td>\n",
       "      <td>Hotel Shangri-La, Sudirman, Jakarta</td>\n",
       "      <td>106.818961</td>\n",
       "      <td>-6.203292</td>\n",
       "      <td>Asian, Indonesian, Western</td>\n",
       "      <td>800000</td>\n",
       "      <td>Indonesian Rupiah(IDR)</td>\n",
       "      <td>No</td>\n",
       "      <td>No</td>\n",
       "      <td>3</td>\n",
       "      <td>4.6</td>\n",
       "      <td>Dark Green</td>\n",
       "      <td>Excellent</td>\n",
       "      <td>873</td>\n",
       "    </tr>\n",
       "    <tr>\n",
       "      <th>2</th>\n",
       "      <td>7420899</td>\n",
       "      <td>Sushi Masa</td>\n",
       "      <td>94</td>\n",
       "      <td>Jakarta</td>\n",
       "      <td>Jl. Tuna Raya No. 5, Penjaringan</td>\n",
       "      <td>Penjaringan</td>\n",
       "      <td>Penjaringan, Jakarta</td>\n",
       "      <td>106.800144</td>\n",
       "      <td>-6.101298</td>\n",
       "      <td>Sushi, Japanese</td>\n",
       "      <td>500000</td>\n",
       "      <td>Indonesian Rupiah(IDR)</td>\n",
       "      <td>No</td>\n",
       "      <td>No</td>\n",
       "      <td>3</td>\n",
       "      <td>4.9</td>\n",
       "      <td>Dark Green</td>\n",
       "      <td>Excellent</td>\n",
       "      <td>605</td>\n",
       "    </tr>\n",
       "    <tr>\n",
       "      <th>3</th>\n",
       "      <td>7421967</td>\n",
       "      <td>3 Wise Monkeys</td>\n",
       "      <td>94</td>\n",
       "      <td>Jakarta</td>\n",
       "      <td>Jl. Suryo No. 26, Senopati, Jakarta</td>\n",
       "      <td>Senopati</td>\n",
       "      <td>Senopati, Jakarta</td>\n",
       "      <td>106.813400</td>\n",
       "      <td>-6.235241</td>\n",
       "      <td>Japanese</td>\n",
       "      <td>450000</td>\n",
       "      <td>Indonesian Rupiah(IDR)</td>\n",
       "      <td>No</td>\n",
       "      <td>No</td>\n",
       "      <td>3</td>\n",
       "      <td>4.2</td>\n",
       "      <td>Green</td>\n",
       "      <td>Very Good</td>\n",
       "      <td>395</td>\n",
       "    </tr>\n",
       "    <tr>\n",
       "      <th>4</th>\n",
       "      <td>7422489</td>\n",
       "      <td>Avec Moi Restaurant and Bar</td>\n",
       "      <td>94</td>\n",
       "      <td>Jakarta</td>\n",
       "      <td>Gedung PIC, Jl. Teluk Betung 43, Thamrin, Jakarta</td>\n",
       "      <td>Thamrin</td>\n",
       "      <td>Thamrin, Jakarta</td>\n",
       "      <td>106.821023</td>\n",
       "      <td>-6.196270</td>\n",
       "      <td>French, Western</td>\n",
       "      <td>350000</td>\n",
       "      <td>Indonesian Rupiah(IDR)</td>\n",
       "      <td>No</td>\n",
       "      <td>No</td>\n",
       "      <td>3</td>\n",
       "      <td>4.3</td>\n",
       "      <td>Green</td>\n",
       "      <td>Very Good</td>\n",
       "      <td>243</td>\n",
       "    </tr>\n",
       "  </tbody>\n",
       "</table>\n",
       "</div>"
      ],
      "text/plain": [
       "   Restaurant ID              Restaurant Name  Country Code     City  \\\n",
       "0        7402935                         Skye            94  Jakarta   \n",
       "1        7410290     Satoo - Hotel Shangri-La            94  Jakarta   \n",
       "2        7420899                   Sushi Masa            94  Jakarta   \n",
       "3        7421967               3 Wise Monkeys            94  Jakarta   \n",
       "4        7422489  Avec Moi Restaurant and Bar            94  Jakarta   \n",
       "\n",
       "                                             Address  \\\n",
       "0  Menara BCA, Lantai 56, Jl. MH. Thamrin, Thamri...   \n",
       "1               Hotel Shangri-La, Jl. Jend. Sudirman   \n",
       "2                   Jl. Tuna Raya No. 5, Penjaringan   \n",
       "3                Jl. Suryo No. 26, Senopati, Jakarta   \n",
       "4  Gedung PIC, Jl. Teluk Betung 43, Thamrin, Jakarta   \n",
       "\n",
       "                        Locality                        Locality Verbose  \\\n",
       "0  Grand Indonesia Mall, Thamrin  Grand Indonesia Mall, Thamrin, Jakarta   \n",
       "1     Hotel Shangri-La, Sudirman     Hotel Shangri-La, Sudirman, Jakarta   \n",
       "2                    Penjaringan                    Penjaringan, Jakarta   \n",
       "3                       Senopati                       Senopati, Jakarta   \n",
       "4                        Thamrin                        Thamrin, Jakarta   \n",
       "\n",
       "    Longitude  Latitude                    Cuisines  Average Cost for two  \\\n",
       "0  106.821999 -6.196778        Italian, Continental                800000   \n",
       "1  106.818961 -6.203292  Asian, Indonesian, Western                800000   \n",
       "2  106.800144 -6.101298             Sushi, Japanese                500000   \n",
       "3  106.813400 -6.235241                    Japanese                450000   \n",
       "4  106.821023 -6.196270             French, Western                350000   \n",
       "\n",
       "                 Currency Has Table booking Has Online delivery  Price range  \\\n",
       "0  Indonesian Rupiah(IDR)                No                  No            3   \n",
       "1  Indonesian Rupiah(IDR)                No                  No            3   \n",
       "2  Indonesian Rupiah(IDR)                No                  No            3   \n",
       "3  Indonesian Rupiah(IDR)                No                  No            3   \n",
       "4  Indonesian Rupiah(IDR)                No                  No            3   \n",
       "\n",
       "   Aggregate rating Rating color Rating text  Votes  \n",
       "0               4.1        Green   Very Good   1498  \n",
       "1               4.6   Dark Green   Excellent    873  \n",
       "2               4.9   Dark Green   Excellent    605  \n",
       "3               4.2        Green   Very Good    395  \n",
       "4               4.3        Green   Very Good    243  "
      ]
     },
     "execution_count": 3,
     "metadata": {},
     "output_type": "execute_result"
    }
   ],
   "source": [
    "data = import_dataset('Data\\\\data.xlsx')\n",
    "data.head()"
   ]
  },
  {
   "cell_type": "markdown",
   "metadata": {},
   "source": [
    "## **Structure of Data**"
   ]
  },
  {
   "cell_type": "code",
   "execution_count": 4,
   "metadata": {},
   "outputs": [
    {
     "name": "stdout",
     "output_type": "stream",
     "text": [
      "<class 'pandas.core.frame.DataFrame'>\n",
      "RangeIndex: 9551 entries, 0 to 9550\n",
      "Data columns (total 19 columns):\n",
      " #   Column                Non-Null Count  Dtype  \n",
      "---  ------                --------------  -----  \n",
      " 0   Restaurant ID         9551 non-null   int64  \n",
      " 1   Restaurant Name       9550 non-null   object \n",
      " 2   Country Code          9551 non-null   int64  \n",
      " 3   City                  9551 non-null   object \n",
      " 4   Address               9551 non-null   object \n",
      " 5   Locality              9551 non-null   object \n",
      " 6   Locality Verbose      9551 non-null   object \n",
      " 7   Longitude             9551 non-null   float64\n",
      " 8   Latitude              9551 non-null   float64\n",
      " 9   Cuisines              9542 non-null   object \n",
      " 10  Average Cost for two  9551 non-null   int64  \n",
      " 11  Currency              9551 non-null   object \n",
      " 12  Has Table booking     9551 non-null   object \n",
      " 13  Has Online delivery   9551 non-null   object \n",
      " 14  Price range           9551 non-null   int64  \n",
      " 15  Aggregate rating      9551 non-null   float64\n",
      " 16  Rating color          9551 non-null   object \n",
      " 17  Rating text           9551 non-null   object \n",
      " 18  Votes                 9551 non-null   int64  \n",
      "dtypes: float64(3), int64(5), object(11)\n",
      "memory usage: 1.4+ MB\n"
     ]
    }
   ],
   "source": [
    "data.info()"
   ]
  },
  {
   "cell_type": "code",
   "execution_count": 5,
   "metadata": {},
   "outputs": [
    {
     "data": {
      "text/plain": [
       "Restaurant ID           0\n",
       "Restaurant Name         1\n",
       "Country Code            0\n",
       "City                    0\n",
       "Address                 0\n",
       "Locality                0\n",
       "Locality Verbose        0\n",
       "Longitude               0\n",
       "Latitude                0\n",
       "Cuisines                9\n",
       "Average Cost for two    0\n",
       "Currency                0\n",
       "Has Table booking       0\n",
       "Has Online delivery     0\n",
       "Price range             0\n",
       "Aggregate rating        0\n",
       "Rating color            0\n",
       "Rating text             0\n",
       "Votes                   0\n",
       "dtype: int64"
      ]
     },
     "execution_count": 5,
     "metadata": {},
     "output_type": "execute_result"
    }
   ],
   "source": [
    "# missing values\n",
    "data.isnull().sum()"
   ]
  },
  {
   "cell_type": "code",
   "execution_count": null,
   "metadata": {},
   "outputs": [
    {
     "data": {
      "text/plain": [
       "Restaurant ID           0\n",
       "Restaurant Name         0\n",
       "Country Code            0\n",
       "City                    0\n",
       "Address                 0\n",
       "Locality                0\n",
       "Locality Verbose        0\n",
       "Longitude               0\n",
       "Latitude                0\n",
       "Cuisines                0\n",
       "Average Cost for two    0\n",
       "Currency                0\n",
       "Has Table booking       0\n",
       "Has Online delivery     0\n",
       "Price range             0\n",
       "Aggregate rating        0\n",
       "Rating color            0\n",
       "Rating text             0\n",
       "Votes                   0\n",
       "dtype: int64"
      ]
     },
     "execution_count": 6,
     "metadata": {},
     "output_type": "execute_result"
    }
   ],
   "source": [
    "# drop missing values\n",
    "data = data.dropna()\n",
    "data.isnull().sum()"
   ]
  },
  {
   "cell_type": "code",
   "execution_count": null,
   "metadata": {},
   "outputs": [
    {
     "data": {
      "text/plain": [
       "0"
      ]
     },
     "execution_count": 7,
     "metadata": {},
     "output_type": "execute_result"
    }
   ],
   "source": [
    "# duplicate values\n",
    "\n",
    "# data[data.duplicated()]\n",
    "# or\n",
    "data.duplicated().sum()"
   ]
  },
  {
   "cell_type": "markdown",
   "metadata": {},
   "source": [
    "## **EDA**"
   ]
  },
  {
   "cell_type": "code",
   "execution_count": 8,
   "metadata": {},
   "outputs": [],
   "source": [
    "# Identify Cities with max & min nbs of restaurants\n",
    "city_distribution = data['City'].value_counts() # sorted order"
   ]
  },
  {
   "cell_type": "code",
   "execution_count": 9,
   "metadata": {},
   "outputs": [
    {
     "name": "stdout",
     "output_type": "stream",
     "text": [
      "City with the highest number of restaurants is: New Delhi\n",
      "City with the lowest number of restaurants is: Penola\n"
     ]
    }
   ],
   "source": [
    "city_max = city_distribution.idxmax()\n",
    "city_min = city_distribution.idxmin()\n",
    "print(f\"City with the highest number of restaurants is: {city_max}\")\n",
    "print(f\"City with the lowest number of restaurants is: {city_min}\")"
   ]
  },
  {
   "cell_type": "code",
   "execution_count": 10,
   "metadata": {},
   "outputs": [
    {
     "data": {
      "text/plain": [
       "Restaurant Name\n",
       "Cafe Coffee Day         83\n",
       "Domino's Pizza          79\n",
       "Subway                  63\n",
       "Green Chick Chop        51\n",
       "McDonald's              48\n",
       "                        ..\n",
       "Mudrika Food Factory     1\n",
       "Kavita's Restaurant      1\n",
       "Sam and Scrooge          1\n",
       "Saheb's Restaurant       1\n",
       "VNS Live Studio          1\n",
       "Name: count, Length: 7436, dtype: int64"
      ]
     },
     "execution_count": 10,
     "metadata": {},
     "output_type": "execute_result"
    }
   ],
   "source": [
    "# find rest with most national presence\n",
    "fr_presence = data['Restaurant Name'].value_counts()\n",
    "fr_presence"
   ]
  },
  {
   "cell_type": "code",
   "execution_count": 11,
   "metadata": {},
   "outputs": [
    {
     "name": "stdout",
     "output_type": "stream",
     "text": [
      "The city with the highest presence is Cafe Coffee Day with 83 presence.\n"
     ]
    }
   ],
   "source": [
    "fr_city = fr_presence.idxmax()\n",
    "print(f\"The city with the highest presence is {fr_city} with {fr_presence.max()} presence.\")"
   ]
  },
  {
   "cell_type": "code",
   "execution_count": 12,
   "metadata": {},
   "outputs": [
    {
     "data": {
      "text/plain": [
       "Has Table booking\n",
       "No     87.862907\n",
       "Yes    12.137093\n",
       "Name: proportion, dtype: float64"
      ]
     },
     "execution_count": 12,
     "metadata": {},
     "output_type": "execute_result"
    }
   ],
   "source": [
    "# find out rest. have table bookig, ratio\n",
    "data['Has Table booking'].value_counts(normalize=True) * 100"
   ]
  },
  {
   "cell_type": "code",
   "execution_count": 13,
   "metadata": {},
   "outputs": [
    {
     "data": {
      "image/png": "[encoded data removed]",
      "text/plain": [
       "<Figure size 640x480 with 1 Axes>"
      ]
     },
     "metadata": {},
     "output_type": "display_data"
    }
   ],
   "source": [
    "table_booking_ratio = data['Has Table booking'].value_counts(normalize=True) * 100\n",
    "table_booking_ratio.plot(kind='pie', color=['#1f77b4', '#ff7f0e'])\n",
    "# plt.xlabel('Has Table Booking')\n",
    "# plt.ylabel('Percentage')\n",
    "plt.title('Distribution of Table Booking')\n",
    "plt.show()"
   ]
  },
  {
   "cell_type": "code",
   "execution_count": 14,
   "metadata": {},
   "outputs": [
    {
     "data": {
      "image/png": "[encoded data removed]",
      "text/plain": [
       "<Figure size 640x480 with 1 Axes>"
      ]
     },
     "metadata": {},
     "output_type": "display_data"
    }
   ],
   "source": [
    "online_ratio = data['Has Online delivery'].value_counts(normalize=True) * 100\n",
    "online_ratio.plot(kind='pie', color=['#1f77b4', '#ff7f0e'])\n",
    "plt.title('Distribution of online delivery')\n",
    "plt.show()"
   ]
  },
  {
   "cell_type": "code",
   "execution_count": 15,
   "metadata": {},
   "outputs": [
    {
     "data": {
      "text/plain": [
       "Has Online delivery\n",
       "No     977236\n",
       "Yes    517914\n",
       "Name: Votes, dtype: int64"
      ]
     },
     "execution_count": 15,
     "metadata": {},
     "output_type": "execute_result"
    }
   ],
   "source": [
    "# compare votes those restaurants deliver online or not\n",
    "delivery_votes = data.groupby('Has Online delivery')['Votes'].sum()\n",
    "delivery_votes"
   ]
  },
  {
   "cell_type": "code",
   "execution_count": 16,
   "metadata": {},
   "outputs": [
    {
     "data": {
      "text/plain": [
       "459322"
      ]
     },
     "execution_count": 16,
     "metadata": {},
     "output_type": "execute_result"
    }
   ],
   "source": [
    "vote_difference = delivery_votes['No']-delivery_votes['Yes']\n",
    "vote_difference"
   ]
  },
  {
   "cell_type": "code",
   "execution_count": 17,
   "metadata": {},
   "outputs": [
    {
     "data": {
      "text/html": [
       "<div>\n",
       "<style scoped>\n",
       "    .dataframe tbody tr th:only-of-type {\n",
       "        vertical-align: middle;\n",
       "    }\n",
       "\n",
       "    .dataframe tbody tr th {\n",
       "        vertical-align: top;\n",
       "    }\n",
       "\n",
       "    .dataframe thead th {\n",
       "        text-align: right;\n",
       "    }\n",
       "</style>\n",
       "<table border=\"1\" class=\"dataframe\">\n",
       "  <thead>\n",
       "    <tr style=\"text-align: right;\">\n",
       "      <th></th>\n",
       "      <th>sum</th>\n",
       "      <th>mean</th>\n",
       "    </tr>\n",
       "    <tr>\n",
       "      <th>Has Online delivery</th>\n",
       "      <th></th>\n",
       "      <th></th>\n",
       "    </tr>\n",
       "  </thead>\n",
       "  <tbody>\n",
       "    <tr>\n",
       "      <th>No</th>\n",
       "      <td>977236</td>\n",
       "      <td>137.833004</td>\n",
       "    </tr>\n",
       "    <tr>\n",
       "      <th>Yes</th>\n",
       "      <td>517914</td>\n",
       "      <td>211.307222</td>\n",
       "    </tr>\n",
       "  </tbody>\n",
       "</table>\n",
       "</div>"
      ],
      "text/plain": [
       "                        sum        mean\n",
       "Has Online delivery                    \n",
       "No                   977236  137.833004\n",
       "Yes                  517914  211.307222"
      ]
     },
     "execution_count": 17,
     "metadata": {},
     "output_type": "execute_result"
    }
   ],
   "source": [
    "delivery_votes = data.groupby('Has Online delivery')['Votes'].agg(['sum', 'mean'])\n",
    "delivery_votes"
   ]
  },
  {
   "cell_type": "code",
   "execution_count": 18,
   "metadata": {},
   "outputs": [
    {
     "data": {
      "text/plain": [
       "0          Italian, Continental\n",
       "1    Asian, Indonesian, Western\n",
       "2               Sushi, Japanese\n",
       "3                      Japanese\n",
       "4               French, Western\n",
       "Name: Cuisines, dtype: object"
      ]
     },
     "execution_count": 18,
     "metadata": {},
     "output_type": "execute_result"
    }
   ],
   "source": [
    "# find top 10 cuisines\n",
    "data['Cuisines'].head()"
   ]
  },
  {
   "cell_type": "code",
   "execution_count": 19,
   "metadata": {},
   "outputs": [
    {
     "data": {
      "image/png": "[encoded data removed]",
      "text/plain": [
       "<Figure size 1000x600 with 1 Axes>"
      ]
     },
     "metadata": {},
     "output_type": "display_data"
    }
   ],
   "source": [
    "top_10_Cuisines = data['Cuisines'].str.split(', ',expand=True).stack().value_counts().head(10)\n",
    "top_10_Cuisines.plot(kind='barh', figsize=(10, 6))\n",
    "plt.xlabel('Number of Restaurants')\n",
    "plt.ylabel('Cuisines')\n",
    "plt.title('Top 10 Cuisines by Number of Restaurants')\n",
    "plt.show()"
   ]
  },
  {
   "cell_type": "code",
   "execution_count": 20,
   "metadata": {},
   "outputs": [
    {
     "data": {
      "text/plain": [
       "0       2\n",
       "1       3\n",
       "2       2\n",
       "3       1\n",
       "4       2\n",
       "       ..\n",
       "9546    3\n",
       "9547    3\n",
       "9548    6\n",
       "9549    1\n",
       "9550    2\n",
       "Name: Cuisines, Length: 9541, dtype: int64"
      ]
     },
     "execution_count": 20,
     "metadata": {},
     "output_type": "execute_result"
    }
   ],
   "source": [
    "# restuarant wise number of cuisines\n",
    "rest_Cuisines = data['Cuisines'].str.split(', ').apply(lambda x:len(x))\n",
    "rest_Cuisines\n"
   ]
  },
  {
   "cell_type": "code",
   "execution_count": 21,
   "metadata": {},
   "outputs": [
    {
     "name": "stdout",
     "output_type": "stream",
     "text": [
      "Max Cuisines Served: 8\n",
      "Min Cuisines Served: 1\n"
     ]
    }
   ],
   "source": [
    "max_cuisine_served = rest_Cuisines.max()\n",
    "min_cuisine_served = rest_Cuisines.min()\n",
    "print(f\"Max Cuisines Served: {max_cuisine_served}\")\n",
    "print(f\"Min Cuisines Served: {min_cuisine_served}\")"
   ]
  },
  {
   "cell_type": "code",
   "execution_count": 30,
   "metadata": {},
   "outputs": [
    {
     "data": {
      "text/html": [
       "<div>\n",
       "<style scoped>\n",
       "    .dataframe tbody tr th:only-of-type {\n",
       "        vertical-align: middle;\n",
       "    }\n",
       "\n",
       "    .dataframe tbody tr th {\n",
       "        vertical-align: top;\n",
       "    }\n",
       "\n",
       "    .dataframe thead th {\n",
       "        text-align: right;\n",
       "    }\n",
       "</style>\n",
       "<table border=\"1\" class=\"dataframe\">\n",
       "  <thead>\n",
       "    <tr style=\"text-align: right;\">\n",
       "      <th></th>\n",
       "      <th>Most Served Restaurant</th>\n",
       "    </tr>\n",
       "    <tr>\n",
       "      <th>City</th>\n",
       "      <th></th>\n",
       "    </tr>\n",
       "  </thead>\n",
       "  <tbody>\n",
       "    <tr>\n",
       "      <th>Abu Dhabi</th>\n",
       "      <td>Indian</td>\n",
       "    </tr>\n",
       "    <tr>\n",
       "      <th>Agra</th>\n",
       "      <td>North Indian</td>\n",
       "    </tr>\n",
       "    <tr>\n",
       "      <th>Ahmedabad</th>\n",
       "      <td>Continental</td>\n",
       "    </tr>\n",
       "    <tr>\n",
       "      <th>Albany</th>\n",
       "      <td>Steak</td>\n",
       "    </tr>\n",
       "    <tr>\n",
       "      <th>Allahabad</th>\n",
       "      <td>North Indian</td>\n",
       "    </tr>\n",
       "    <tr>\n",
       "      <th>...</th>\n",
       "      <td>...</td>\n",
       "    </tr>\n",
       "    <tr>\n",
       "      <th>Weirton</th>\n",
       "      <td>Burger</td>\n",
       "    </tr>\n",
       "    <tr>\n",
       "      <th>Wellington City</th>\n",
       "      <td>Cafe</td>\n",
       "    </tr>\n",
       "    <tr>\n",
       "      <th>Winchester Bay</th>\n",
       "      <td>Burger</td>\n",
       "    </tr>\n",
       "    <tr>\n",
       "      <th>Yorkton</th>\n",
       "      <td>Asian</td>\n",
       "    </tr>\n",
       "    <tr>\n",
       "      <th>€¡stanbul</th>\n",
       "      <td>Restaurant Cafe</td>\n",
       "    </tr>\n",
       "  </tbody>\n",
       "</table>\n",
       "<p>140 rows × 1 columns</p>\n",
       "</div>"
      ],
      "text/plain": [
       "                Most Served Restaurant\n",
       "City                                  \n",
       "Abu Dhabi                       Indian\n",
       "Agra                      North Indian\n",
       "Ahmedabad                  Continental\n",
       "Albany                           Steak\n",
       "Allahabad                 North Indian\n",
       "...                                ...\n",
       "Weirton                         Burger\n",
       "Wellington City                   Cafe\n",
       "Winchester Bay                  Burger\n",
       "Yorkton                          Asian\n",
       "€¡stanbul              Restaurant Cafe\n",
       "\n",
       "[140 rows x 1 columns]"
      ]
     },
     "execution_count": 30,
     "metadata": {},
     "output_type": "execute_result"
    }
   ],
   "source": [
    "# city wise most served restaurants\n",
    "most_served_restaurants_city = data.groupby('City')['Cuisines'].apply(lambda x:x.str.split(', ').explode().value_counts().idxmax())\n",
    "most_served_restaurants_city = most_served_restaurants_city.to_frame('Most Served Restaurant')\n",
    "most_served_restaurants_city"
   ]
  },
  {
   "cell_type": "code",
   "execution_count": 32,
   "metadata": {},
   "outputs": [
    {
     "data": {
      "text/plain": [
       "count      9541.000000\n",
       "mean       1200.368096\n",
       "std       16129.588655\n",
       "min           0.000000\n",
       "25%         250.000000\n",
       "50%         400.000000\n",
       "75%         700.000000\n",
       "max      800000.000000\n",
       "Name: Average Cost for two, dtype: float64"
      ]
     },
     "execution_count": 32,
     "metadata": {},
     "output_type": "execute_result"
    }
   ],
   "source": [
    "# cost distribution\n",
    "cost_distribution = data['Average Cost for two'].describe()\n",
    "cost_distribution"
   ]
  },
  {
   "cell_type": "code",
   "execution_count": 36,
   "metadata": {},
   "outputs": [
    {
     "data": {
      "text/html": [
       "<div>\n",
       "<style scoped>\n",
       "    .dataframe tbody tr th:only-of-type {\n",
       "        vertical-align: middle;\n",
       "    }\n",
       "\n",
       "    .dataframe tbody tr th {\n",
       "        vertical-align: top;\n",
       "    }\n",
       "\n",
       "    .dataframe thead th {\n",
       "        text-align: right;\n",
       "    }\n",
       "</style>\n",
       "<table border=\"1\" class=\"dataframe\">\n",
       "  <thead>\n",
       "    <tr style=\"text-align: right;\">\n",
       "      <th></th>\n",
       "      <th>Price range</th>\n",
       "      <th>Votes</th>\n",
       "      <th>Average Cost for two</th>\n",
       "    </tr>\n",
       "    <tr>\n",
       "      <th>Aggregate rating</th>\n",
       "      <th></th>\n",
       "      <th></th>\n",
       "      <th></th>\n",
       "    </tr>\n",
       "  </thead>\n",
       "  <tbody>\n",
       "    <tr>\n",
       "      <th>0.0</th>\n",
       "      <td>1.235102</td>\n",
       "      <td>0.870112</td>\n",
       "      <td>340.337523</td>\n",
       "    </tr>\n",
       "    <tr>\n",
       "      <th>1.8</th>\n",
       "      <td>3.000000</td>\n",
       "      <td>322.000000</td>\n",
       "      <td>1000.000000</td>\n",
       "    </tr>\n",
       "    <tr>\n",
       "      <th>1.9</th>\n",
       "      <td>1.500000</td>\n",
       "      <td>106.000000</td>\n",
       "      <td>375.000000</td>\n",
       "    </tr>\n",
       "    <tr>\n",
       "      <th>2.0</th>\n",
       "      <td>2.000000</td>\n",
       "      <td>129.714286</td>\n",
       "      <td>892.857143</td>\n",
       "    </tr>\n",
       "    <tr>\n",
       "      <th>2.1</th>\n",
       "      <td>1.733333</td>\n",
       "      <td>76.400000</td>\n",
       "      <td>633.333333</td>\n",
       "    </tr>\n",
       "    <tr>\n",
       "      <th>2.2</th>\n",
       "      <td>1.777778</td>\n",
       "      <td>94.962963</td>\n",
       "      <td>599.074074</td>\n",
       "    </tr>\n",
       "    <tr>\n",
       "      <th>2.3</th>\n",
       "      <td>1.787234</td>\n",
       "      <td>69.808511</td>\n",
       "      <td>565.957447</td>\n",
       "    </tr>\n",
       "    <tr>\n",
       "      <th>2.4</th>\n",
       "      <td>1.885057</td>\n",
       "      <td>97.011494</td>\n",
       "      <td>670.919540</td>\n",
       "    </tr>\n",
       "    <tr>\n",
       "      <th>2.5</th>\n",
       "      <td>1.827273</td>\n",
       "      <td>79.672727</td>\n",
       "      <td>622.272727</td>\n",
       "    </tr>\n",
       "    <tr>\n",
       "      <th>2.6</th>\n",
       "      <td>1.795812</td>\n",
       "      <td>53.921466</td>\n",
       "      <td>601.675393</td>\n",
       "    </tr>\n",
       "    <tr>\n",
       "      <th>2.7</th>\n",
       "      <td>1.628000</td>\n",
       "      <td>52.376000</td>\n",
       "      <td>546.800000</td>\n",
       "    </tr>\n",
       "    <tr>\n",
       "      <th>2.8</th>\n",
       "      <td>1.482540</td>\n",
       "      <td>31.755556</td>\n",
       "      <td>480.190476</td>\n",
       "    </tr>\n",
       "    <tr>\n",
       "      <th>2.9</th>\n",
       "      <td>1.406824</td>\n",
       "      <td>17.608924</td>\n",
       "      <td>450.446194</td>\n",
       "    </tr>\n",
       "    <tr>\n",
       "      <th>3.0</th>\n",
       "      <td>1.474359</td>\n",
       "      <td>20.153846</td>\n",
       "      <td>473.717949</td>\n",
       "    </tr>\n",
       "    <tr>\n",
       "      <th>3.1</th>\n",
       "      <td>1.531792</td>\n",
       "      <td>32.163776</td>\n",
       "      <td>490.414258</td>\n",
       "    </tr>\n",
       "    <tr>\n",
       "      <th>3.2</th>\n",
       "      <td>1.691571</td>\n",
       "      <td>45.103448</td>\n",
       "      <td>575.124521</td>\n",
       "    </tr>\n",
       "    <tr>\n",
       "      <th>3.3</th>\n",
       "      <td>1.749482</td>\n",
       "      <td>72.207039</td>\n",
       "      <td>608.664596</td>\n",
       "    </tr>\n",
       "    <tr>\n",
       "      <th>3.4</th>\n",
       "      <td>1.860606</td>\n",
       "      <td>94.569697</td>\n",
       "      <td>829.232323</td>\n",
       "    </tr>\n",
       "    <tr>\n",
       "      <th>3.5</th>\n",
       "      <td>1.966667</td>\n",
       "      <td>142.429167</td>\n",
       "      <td>726.270833</td>\n",
       "    </tr>\n",
       "    <tr>\n",
       "      <th>3.6</th>\n",
       "      <td>2.028384</td>\n",
       "      <td>165.120087</td>\n",
       "      <td>717.482533</td>\n",
       "    </tr>\n",
       "    <tr>\n",
       "      <th>3.7</th>\n",
       "      <td>2.128806</td>\n",
       "      <td>261.067916</td>\n",
       "      <td>1623.854801</td>\n",
       "    </tr>\n",
       "    <tr>\n",
       "      <th>3.8</th>\n",
       "      <td>2.293233</td>\n",
       "      <td>266.726817</td>\n",
       "      <td>794.721805</td>\n",
       "    </tr>\n",
       "    <tr>\n",
       "      <th>3.9</th>\n",
       "      <td>2.364458</td>\n",
       "      <td>358.334337</td>\n",
       "      <td>1524.894578</td>\n",
       "    </tr>\n",
       "    <tr>\n",
       "      <th>4.0</th>\n",
       "      <td>2.609023</td>\n",
       "      <td>405.560150</td>\n",
       "      <td>2256.484962</td>\n",
       "    </tr>\n",
       "    <tr>\n",
       "      <th>4.1</th>\n",
       "      <td>2.490842</td>\n",
       "      <td>465.721612</td>\n",
       "      <td>3680.054945</td>\n",
       "    </tr>\n",
       "    <tr>\n",
       "      <th>4.2</th>\n",
       "      <td>2.624434</td>\n",
       "      <td>518.303167</td>\n",
       "      <td>4664.072398</td>\n",
       "    </tr>\n",
       "    <tr>\n",
       "      <th>4.3</th>\n",
       "      <td>2.597701</td>\n",
       "      <td>673.367816</td>\n",
       "      <td>4430.718391</td>\n",
       "    </tr>\n",
       "    <tr>\n",
       "      <th>4.4</th>\n",
       "      <td>2.839161</td>\n",
       "      <td>649.762238</td>\n",
       "      <td>3003.636364</td>\n",
       "    </tr>\n",
       "    <tr>\n",
       "      <th>4.5</th>\n",
       "      <td>2.652632</td>\n",
       "      <td>716.157895</td>\n",
       "      <td>542.263158</td>\n",
       "    </tr>\n",
       "    <tr>\n",
       "      <th>4.6</th>\n",
       "      <td>2.756410</td>\n",
       "      <td>731.102564</td>\n",
       "      <td>15455.128205</td>\n",
       "    </tr>\n",
       "    <tr>\n",
       "      <th>4.7</th>\n",
       "      <td>2.902439</td>\n",
       "      <td>1098.487805</td>\n",
       "      <td>611.707317</td>\n",
       "    </tr>\n",
       "    <tr>\n",
       "      <th>4.8</th>\n",
       "      <td>3.240000</td>\n",
       "      <td>1197.880000</td>\n",
       "      <td>727.000000</td>\n",
       "    </tr>\n",
       "    <tr>\n",
       "      <th>4.9</th>\n",
       "      <td>2.885246</td>\n",
       "      <td>911.967213</td>\n",
       "      <td>18833.442623</td>\n",
       "    </tr>\n",
       "  </tbody>\n",
       "</table>\n",
       "</div>"
      ],
      "text/plain": [
       "                  Price range        Votes  Average Cost for two\n",
       "Aggregate rating                                                \n",
       "0.0                  1.235102     0.870112            340.337523\n",
       "1.8                  3.000000   322.000000           1000.000000\n",
       "1.9                  1.500000   106.000000            375.000000\n",
       "2.0                  2.000000   129.714286            892.857143\n",
       "2.1                  1.733333    76.400000            633.333333\n",
       "2.2                  1.777778    94.962963            599.074074\n",
       "2.3                  1.787234    69.808511            565.957447\n",
       "2.4                  1.885057    97.011494            670.919540\n",
       "2.5                  1.827273    79.672727            622.272727\n",
       "2.6                  1.795812    53.921466            601.675393\n",
       "2.7                  1.628000    52.376000            546.800000\n",
       "2.8                  1.482540    31.755556            480.190476\n",
       "2.9                  1.406824    17.608924            450.446194\n",
       "3.0                  1.474359    20.153846            473.717949\n",
       "3.1                  1.531792    32.163776            490.414258\n",
       "3.2                  1.691571    45.103448            575.124521\n",
       "3.3                  1.749482    72.207039            608.664596\n",
       "3.4                  1.860606    94.569697            829.232323\n",
       "3.5                  1.966667   142.429167            726.270833\n",
       "3.6                  2.028384   165.120087            717.482533\n",
       "3.7                  2.128806   261.067916           1623.854801\n",
       "3.8                  2.293233   266.726817            794.721805\n",
       "3.9                  2.364458   358.334337           1524.894578\n",
       "4.0                  2.609023   405.560150           2256.484962\n",
       "4.1                  2.490842   465.721612           3680.054945\n",
       "4.2                  2.624434   518.303167           4664.072398\n",
       "4.3                  2.597701   673.367816           4430.718391\n",
       "4.4                  2.839161   649.762238           3003.636364\n",
       "4.5                  2.652632   716.157895            542.263158\n",
       "4.6                  2.756410   731.102564          15455.128205\n",
       "4.7                  2.902439  1098.487805            611.707317\n",
       "4.8                  3.240000  1197.880000            727.000000\n",
       "4.9                  2.885246   911.967213          18833.442623"
      ]
     },
     "execution_count": 36,
     "metadata": {},
     "output_type": "execute_result"
    }
   ],
   "source": [
    "# rating distribution\n",
    "rating_distribution = data.groupby('Aggregate rating').agg({\n",
    "    'Price range':'mean',\n",
    "    'Votes':'mean',\n",
    "    'Average Cost for two':'mean'\n",
    "}).sort_index()\n",
    "rating_distribution"
   ]
  },
  {
   "cell_type": "code",
   "execution_count": 38,
   "metadata": {},
   "outputs": [
    {
     "data": {
      "text/html": [
       "<div>\n",
       "<style scoped>\n",
       "    .dataframe tbody tr th:only-of-type {\n",
       "        vertical-align: middle;\n",
       "    }\n",
       "\n",
       "    .dataframe tbody tr th {\n",
       "        vertical-align: top;\n",
       "    }\n",
       "\n",
       "    .dataframe thead th {\n",
       "        text-align: right;\n",
       "    }\n",
       "</style>\n",
       "<table border=\"1\" class=\"dataframe\">\n",
       "  <thead>\n",
       "    <tr style=\"text-align: right;\">\n",
       "      <th></th>\n",
       "      <th>Aggregate rating</th>\n",
       "      <th>Average Cost for two</th>\n",
       "      <th>Votes</th>\n",
       "      <th>Price range</th>\n",
       "    </tr>\n",
       "  </thead>\n",
       "  <tbody>\n",
       "    <tr>\n",
       "      <th>Aggregate rating</th>\n",
       "      <td>1.000000</td>\n",
       "      <td>0.051869</td>\n",
       "      <td>0.313381</td>\n",
       "      <td>0.438286</td>\n",
       "    </tr>\n",
       "    <tr>\n",
       "      <th>Average Cost for two</th>\n",
       "      <td>0.051869</td>\n",
       "      <td>1.000000</td>\n",
       "      <td>0.067844</td>\n",
       "      <td>0.075121</td>\n",
       "    </tr>\n",
       "    <tr>\n",
       "      <th>Votes</th>\n",
       "      <td>0.313381</td>\n",
       "      <td>0.067844</td>\n",
       "      <td>1.000000</td>\n",
       "      <td>0.309339</td>\n",
       "    </tr>\n",
       "    <tr>\n",
       "      <th>Price range</th>\n",
       "      <td>0.438286</td>\n",
       "      <td>0.075121</td>\n",
       "      <td>0.309339</td>\n",
       "      <td>1.000000</td>\n",
       "    </tr>\n",
       "  </tbody>\n",
       "</table>\n",
       "</div>"
      ],
      "text/plain": [
       "                      Aggregate rating  Average Cost for two     Votes  \\\n",
       "Aggregate rating              1.000000              0.051869  0.313381   \n",
       "Average Cost for two          0.051869              1.000000  0.067844   \n",
       "Votes                         0.313381              0.067844  1.000000   \n",
       "Price range                   0.438286              0.075121  0.309339   \n",
       "\n",
       "                      Price range  \n",
       "Aggregate rating         0.438286  \n",
       "Average Cost for two     0.075121  \n",
       "Votes                    0.309339  \n",
       "Price range              1.000000  "
      ]
     },
     "execution_count": 38,
     "metadata": {},
     "output_type": "execute_result"
    }
   ],
   "source": [
    "factors_correlation = data[['Aggregate rating','Average Cost for two','Votes','Price range']].corr()\n",
    "factors_correlation"
   ]
  },
  {
   "cell_type": "code",
   "execution_count": 39,
   "metadata": {},
   "outputs": [
    {
     "data": {
      "image/png": "[encoded data removed]",
      "text/plain": [
       "<Figure size 640x480 with 2 Axes>"
      ]
     },
     "metadata": {},
     "output_type": "display_data"
    }
   ],
   "source": [
    "sns.heatmap(factors_correlation,annot=True,cmap='coolwarm')\n",
    "plt.title('Correlation Heatmap')\n",
    "plt.show()"
   ]
  },
  {
   "cell_type": "code",
   "execution_count": null,
   "metadata": {},
   "outputs": [],
   "source": []
  }
 ],
 "metadata": {
  "kernelspec": {
   "display_name": "eurisko",
   "language": "python",
   "name": "python3"
  },
  "language_info": {
   "codemirror_mode": {
    "name": "ipython",
    "version": 3
   },
   "file_extension": ".py",
   "mimetype": "text/x-python",
   "name": "python",
   "nbconvert_exporter": "python",
   "pygments_lexer": "ipython3",
   "version": "3.12.4"
  }
 },
 "nbformat": 4,
 "nbformat_minor": 2
}
